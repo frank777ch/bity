{
 "cells": [
  {
   "cell_type": "markdown",
   "id": "64bdfa24",
   "metadata": {},
   "source": [
    "# Apuntes de Animación de Sprites con JavaScript\n",
    "\n",
    "Este es mi cuaderno de estudio para aprender a crear animaciones de sprites siguiendo el video de Frank's Laboratory.\n",
    "\n",
    "[Sprite Animation in JavaScript - Frank's Laboratory](https://www.youtube.com/watch?v=CY0HE277IBM&t=366s&ab_channel=Frankslaboratory)\n",
    "\n",
    "<iframe width=\"560\" height=\"315\" src=\"https://www.youtube.com/watch?v=CY0HE277IBM&t=366s&ab_channel=Frankslaboratory\" title=\"YouTube video player\" frameborder=\"0\" allow=\"accelerometer; autoplay; clipboard-write; encrypted-media; gyroscope; picture-in-picture\" allowfullscreen></iframe>\n",
    "\n",
    "## 1. Configuración Inicial (HTML y CSS)\n",
    "\n",
    "El proyecto base consta de 3 archivos:\n",
    "\n",
    "- `index.html`: Contiene la estructura básica de la página. Lo más importante es el elemento `<canvas id=\"canvas1\"></canvas>`, que es nuestro lienzo para dibujar.\n",
    "- `style.css`: Le da estilos al canvas, como un borde negro y lo centra en la pantalla.\n",
    "- `script.js`: Aquí es donde vivirá toda la lógica de la animación.\n",
    "\n",
    "El `index.html` ya está enlazado a los otros dos archivos."
   ]
  },
  {
   "cell_type": "markdown",
   "id": "cf7dbb79",
   "metadata": {},
   "source": []
  }
 ],
 "metadata": {
  "language_info": {
   "name": "python"
  }
 },
 "nbformat": 4,
 "nbformat_minor": 5
}
