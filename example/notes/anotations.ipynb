{
 "cells": [
  {
   "cell_type": "markdown",
   "id": "64bdfa24",
   "metadata": {},
   "source": [
    "# Apuntes de Animación de Sprites con JavaScript\n",
    "\n",
    "Este es mi cuaderno de estudio para aprender a crear animaciones de sprites siguiendo el video de Frank's Laboratory.\n",
    "\n",
    "[![Sprite Animation on Javascript - Frank's Laboratory](https://img.youtube.com/vi/CY0HE277IBM/maxresdefault.jpg)](https://youtu.be/CY0HE277IBM)\n",
    "\n",
    "[Sprite Animation on Javascript - Frank's Laboratory](https://youtu.be/CY0HE277IBM)"
   ]
  },
  {
   "cell_type": "markdown",
   "id": "cf7dbb79",
   "metadata": {},
   "source": [
    "## **Configuración inicial**"
   ]
  },
  {
   "cell_type": "markdown",
   "id": "3cf8d80a",
   "metadata": {},
   "source": [
    "### 1. Creación de archivos fundamentales"
   ]
  },
  {
   "cell_type": "markdown",
   "id": "1041aee0",
   "metadata": {},
   "source": [
    "Para crear el `index.html` se puede digitar `html:5` y presionar la tecla Tab. El resultado será una plantilla inicial de HTML como esta:"
   ]
  },
  {
   "cell_type": "markdown",
   "id": "9f721501",
   "metadata": {},
   "source": [
    "```html\n",
    "<!DOCTYPE html>\n",
    "<html lang=\"en\">\n",
    "<head>\n",
    "    <meta charset=\"UTF-8\">\n",
    "    <meta name=\"viewport\" content=\"width=device-width, initial-scale=1.0\">\n",
    "    <title>Document</title>\n",
    "</head>\n",
    "<body>\n",
    "    \n",
    "</body>\n",
    "</html>"
   ]
  },
  {
   "cell_type": "markdown",
   "id": "1e44dc92",
   "metadata": {},
   "source": [
    "En este caso se crea una plantilla inicial html. Luego al mismo nivel crear un archivo 'style.css' para poder crear estilos a los elemento del html y otro archivo 'script.js' para poder crear las funciones de animación."
   ]
  },
  {
   "cell_type": "markdown",
   "id": "a4ef1572",
   "metadata": {},
   "source": [
    "Una vez creados ambos archivos tendremos que enlazarlos al 'index.html', adicionalmente vamos a crear un lienzo para poder renderizar lo que queramos en un espacio adecuado dentro de nuestra página."
   ]
  },
  {
   "cell_type": "markdown",
   "id": "65b11cc1",
   "metadata": {
    "vscode": {
     "languageId": "polyglot-notebook"
    }
   },
   "source": [
    "```html\n",
    "<!DOCTYPE html>\n",
    "<html lang=\"en\">\n",
    "<head>\n",
    "    <meta charset=\"UTF-8\">\n",
    "    <meta name=\"viewport\" content=\"width=device-width, initial-scale=1.0\">\n",
    "    <title>Example</title>\n",
    "    <link rel=\"stylesheet\" href=\"style.css\"/>\n",
    "</head>\n",
    "<body>\n",
    "    <canvas id=\"canvas1\"></canvas> <!-- Nuevo lienzo -->\n",
    "\n",
    "    <script src=\"script.js\"></script>\n",
    "</body>\n",
    "</html>"
   ]
  },
  {
   "cell_type": "markdown",
   "id": "ca42afa9",
   "metadata": {},
   "source": [
    "Luego vamos a dar estilos a nuestro nuevo lienzo a través de nuestro archivo 'style.css' para poder resaltarlo con respecto al fondo."
   ]
  },
  {
   "cell_type": "markdown",
   "id": "8fece582",
   "metadata": {
    "vscode": {
     "languageId": "polyglot-notebook"
    }
   },
   "source": [
    "```css\n",
    "#canvas1{\n",
    "    border: 5px solid black;\n",
    "    position: absolute;\n",
    "    top: 50%;\n",
    "    left: 50%;\n",
    "    transform: translate(-50%, -50%);\n",
    "    width: 600px;\n",
    "    height: 600px;\n",
    "}"
   ]
  },
  {
   "cell_type": "markdown",
   "id": "59b61cf8",
   "metadata": {},
   "source": []
  }
 ],
 "metadata": {
  "language_info": {
   "name": "python"
  }
 },
 "nbformat": 4,
 "nbformat_minor": 5
}
