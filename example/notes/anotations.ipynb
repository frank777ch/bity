{
 "cells": [
  {
   "cell_type": "markdown",
   "id": "64bdfa24",
   "metadata": {},
   "source": [
    "# Apuntes de Animación de Sprites con JavaScript\n",
    "\n",
    "Este es mi cuaderno de estudio para aprender a crear animaciones de sprites siguiendo el video de Frank's Laboratory.\n",
    "\n",
    "[![Sprite Animation on Javascript - Frank's Laboratory](https://img.youtube.com/vi/CY0HE277IBM/maxresdefault.jpg)](https://youtu.be/CY0HE277IBM)\n",
    "\n",
    "[Sprite Animation on Javascript - Frank's Laboratory](https://youtu.be/CY0HE277IBM)"
   ]
  },
  {
   "cell_type": "markdown",
   "id": "cf7dbb79",
   "metadata": {},
   "source": [
    "## **Configuración inicial**"
   ]
  },
  {
   "cell_type": "markdown",
   "id": "3cf8d80a",
   "metadata": {},
   "source": [
    "### 1. Creación de archivos fundamentales"
   ]
  },
  {
   "cell_type": "markdown",
   "id": "1041aee0",
   "metadata": {},
   "source": [
    "Para crear el `index.html` se puede digitar `html:5` y presionar la tecla Tab. El resultado será una plantilla inicial de HTML como esta:"
   ]
  },
  {
   "cell_type": "markdown",
   "id": "9f721501",
   "metadata": {},
   "source": [
    "```html\n",
    "<!DOCTYPE html>\n",
    "<html lang=\"en\">\n",
    "<head>\n",
    "    <meta charset=\"UTF-8\">\n",
    "    <meta name=\"viewport\" content=\"width=device-width, initial-scale=1.0\">\n",
    "    <title>Document</title>\n",
    "</head>\n",
    "<body>\n",
    "    \n",
    "</body>\n",
    "</html>"
   ]
  },
  {
   "cell_type": "markdown",
   "id": "1e44dc92",
   "metadata": {},
   "source": [
    "En este caso se crea una plantilla inicial html. Luego al mismo nivel crear un archivo 'style.css' para poder crear estilos a los elemento del html y otro archivo 'script.js' para poder crear las funciones de animación."
   ]
  },
  {
   "cell_type": "markdown",
   "id": "a4ef1572",
   "metadata": {},
   "source": [
    "Una vez creados ambos archivos tendremos que enlazarlos al 'index.html', adicionalmente vamos a crear un lienzo para poder renderizar lo que queramos en un espacio adecuado dentro de nuestra página."
   ]
  },
  {
   "cell_type": "markdown",
   "id": "65b11cc1",
   "metadata": {
    "vscode": {
     "languageId": "polyglot-notebook"
    }
   },
   "source": [
    "```html\n",
    "<!DOCTYPE html>\n",
    "<html lang=\"en\">\n",
    "<head>\n",
    "    <meta charset=\"UTF-8\">\n",
    "    <meta name=\"viewport\" content=\"width=device-width, initial-scale=1.0\">\n",
    "    <title>Example</title>\n",
    "    <link rel=\"stylesheet\" href=\"style.css\"/>\n",
    "</head>\n",
    "<body>\n",
    "    <canvas id=\"canvas1\"></canvas> <!-- Nuevo lienzo -->\n",
    "\n",
    "    <script src=\"script.js\"></script>\n",
    "</body>\n",
    "</html>"
   ]
  },
  {
   "cell_type": "markdown",
   "id": "ca42afa9",
   "metadata": {},
   "source": [
    "Luego vamos a dar estilos a nuestro nuevo lienzo a través de nuestro archivo 'style.css' para poder resaltarlo con respecto al fondo."
   ]
  },
  {
   "cell_type": "markdown",
   "id": "8fece582",
   "metadata": {
    "vscode": {
     "languageId": "polyglot-notebook"
    }
   },
   "source": [
    "```css\n",
    "#canvas1{\n",
    "    border: 5px solid black;\n",
    "    position: absolute;\n",
    "    top: 50%;\n",
    "    left: 50%;\n",
    "    transform: translate(-50%, -50%);\n",
    "    width: 600px;\n",
    "    height: 600px;\n",
    "}"
   ]
  },
  {
   "cell_type": "markdown",
   "id": "59b61cf8",
   "metadata": {},
   "source": [
    "En el 'script.js' vamos a crear variables globales que se van a usar más adelante."
   ]
  },
  {
   "cell_type": "markdown",
   "id": "52114331",
   "metadata": {},
   "source": [
    "Este bloque de código realiza la inicialización fundamental del entorno de dibujo en el navegador. Primero, utiliza el método document.getElementById('canvas1') para buscar y obtener una referencia al objeto del DOM (Document Object Model) que corresponde al elemento <canvas> en el archivo HTML. Esta referencia se almacena en la constante canvas. \n",
    "\n",
    "```js\n",
    "const canvas = document.getElementById('canvas1');"
   ]
  },
  {
   "cell_type": "markdown",
   "id": "745a5018",
   "metadata": {},
   "source": [
    "A continuación, se invoca el método canvas.getContext('2d') para obtener el contexto de renderizado bidimensional del lienzo. Este método devuelve un objeto CanvasRenderingContext2D, el cual contiene toda la API de dibujo 2D (métodos y propiedades para dibujar formas, texto e imágenes), y se asigna a la constante ctx. Finalmente, el código establece las dimensiones del área de dibujo del canvas. La expresión canvas.width = 600 asigna un ancho de 600 píxeles a la propiedad intrínseca del canvas, definiendo su resolución horizontal. Mediante una asignación encadenada, este mismo valor se almacena en la constante CANVAS_WIDTH. El mismo proceso se repite para la altura con CANVAS_HEIGHT, garantizando que las dimensiones del lienzo estén definidas explícitamente en el script y sean fácilmente accesibles a través de constantes globales para cálculos posteriores."
   ]
  },
  {
   "cell_type": "markdown",
   "id": "9a7d48ad",
   "metadata": {
    "vscode": {
     "languageId": "polyglot-notebook"
    }
   },
   "source": [
    "```js\n",
    "const canvas = document.getElementById('canvas1');\n",
    "const ctx = canvas.getContext('2d');\n",
    "const CANVAS_WIDTH = canvas.width = 600;\n",
    "const CANVAS_HEIGHT = canvas.height = 600;"
   ]
  },
  {
   "cell_type": "markdown",
   "id": "5f784ad4",
   "metadata": {},
   "source": [
    "En el mismo nivel de los archivos agregamos la imagen 'shadow_dog.png'."
   ]
  },
  {
   "cell_type": "markdown",
   "id": "45f15851",
   "metadata": {},
   "source": [
    "![Sprite del perro sombra](..\\shadow_dog.png)"
   ]
  },
  {
   "cell_type": "markdown",
   "id": "31ddcb01",
   "metadata": {},
   "source": [
    "Ahora que tenemos nuestro archivo de imagen en el proyecto, el siguiente paso es cargarlo en nuestro script para que JavaScript pueda utilizarlo. Para ello, creamos una nueva instancia de un objeto Image con new Image(). Este objeto funciona como un elemento <img> de HTML, pero existe solo en la memoria de nuestro script. Luego, le asignamos la ruta de nuestro archivo a la propiedad .src de este objeto. Esta acción le indica al navegador que comience a cargar la imagen 'shadow_dog.png' de forma asíncrona. Una vez cargada, la imagen estará lista para ser dibujada en el canvas."
   ]
  },
  {
   "cell_type": "markdown",
   "id": "6deaef9c",
   "metadata": {
    "vscode": {
     "languageId": "polyglot-notebook"
    }
   },
   "source": [
    "```js\n",
    "const playerImage = new Image();\n",
    "playerImage.src = 'shadow_dog.png';"
   ]
  },
  {
   "cell_type": "markdown",
   "id": "7d75495d",
   "metadata": {},
   "source": [
    "Con la imagen cargada y lista, el corazón de nuestra animación es el **bucle de animación**. Este es un proceso que se repite continuamente para crear la ilusión de movimiento. Definimos este bucle dentro de una función, típicamente llamada `animate`. En el video, antes de usar la imagen del perro, se prueba el bucle de animación dibujando una forma simple para confirmar que todo funciona. El código a continuación muestra esta prueba fundamental."
   ]
  },
  {
   "cell_type": "markdown",
   "id": "cc346a06",
   "metadata": {},
   "source": [
    "```js\n",
    "function animate(){\n",
    "    ctx.clearRect(0, 0, CANVAS_WIDTH, CANVAS_HEIGHT);\n",
    "    ctx.fillRect(50, 50, 100, 100);\n",
    "    requestAnimationFrame(animate);\n",
    "}"
   ]
  },
  {
   "cell_type": "markdown",
   "id": "96a8bc13",
   "metadata": {},
   "source": [
    "Dentro de la función `animate`, ocurren dos pasos clave en cada fotograma:\n",
    "- Primero, `ctx.clearRect(0, 0, CANVAS_WIDTH, CANVAS_HEIGHT);` borra por completo todo el lienzo, asegurando que no queden rastros del dibujo anterior. \n",
    "- Después, `ctx.fillRect(50, 50, 100, 100);` dibuja un cuadrado relleno de 100x100 píxeles en la posición (50, 50). \n",
    "- La última línea, `requestAnimationFrame(animate);`, es la que crea el bucle: le pide al navegador que vuelva a ejecutar la función `animate` justo antes del próximo refresco de la pantalla, repitiendo el proceso de limpiar y dibujar indefinidamente."
   ]
  },
  {
   "cell_type": "markdown",
   "id": "f612024b",
   "metadata": {},
   "source": [
    "```js\n",
    "function animate(){\n",
    "    ctx.clearRect(0, 0, CANVAS_WIDTH, CANVAS_HEIGHT);\n",
    "    ctx.fillRect(50, 50, 100, 100);\n",
    "    requestAnimationFrame(animate);\n",
    "}"
   ]
  },
  {
   "cell_type": "markdown",
   "id": "f4f001e5",
   "metadata": {},
   "source": []
  },
  {
   "cell_type": "markdown",
   "id": "16eaa6c7",
   "metadata": {},
   "source": [
    "```js\n",
    "animate();"
   ]
  }
 ],
 "metadata": {
  "language_info": {
   "name": "python"
  }
 },
 "nbformat": 4,
 "nbformat_minor": 5
}
