{
 "cells": [
  {
   "cell_type": "markdown",
   "id": "64bdfa24",
   "metadata": {},
   "source": [
    "# Apuntes de Animación de Sprites con JavaScript\n",
    "\n",
    "Este es mi cuaderno de estudio para aprender a crear animaciones de sprites siguiendo el video de Frank's Laboratory.\n",
    "\n",
    "[![Sprite Animation on Javascript - Frank's Laboratory](https://img.youtube.com/vi/CY0HE277IBM/maxresdefault.jpg)](https://youtu.be/CY0HE277IBM)\n",
    "\n",
    "[Sprite Animation on Javascript - Frank's Laboratory](https://youtu.be/CY0HE277IBM)"
   ]
  },
  {
   "cell_type": "markdown",
   "id": "cf7dbb79",
   "metadata": {},
   "source": [
    "## **Configuración inicial**"
   ]
  },
  {
   "cell_type": "markdown",
   "id": "3cf8d80a",
   "metadata": {},
   "source": [
    "### 1. Creación de archivos fundamentales"
   ]
  },
  {
   "cell_type": "markdown",
   "id": "1041aee0",
   "metadata": {},
   "source": [
    "Para crear el `index.html` se puede digitar `html:5` y presionar la tecla Tab. El resultado será una plantilla inicial de HTML como esta:"
   ]
  },
  {
   "cell_type": "markdown",
   "id": "9f721501",
   "metadata": {},
   "source": [
    "```html\n",
    "<!DOCTYPE html>\n",
    "<html lang=\"en\">\n",
    "<head>\n",
    "    <meta charset=\"UTF-8\">\n",
    "    <meta name=\"viewport\" content=\"width=device-width, initial-scale=1.0\">\n",
    "    <title>Document</title>\n",
    "</head>\n",
    "<body>\n",
    "    \n",
    "</body>\n",
    "</html>"
   ]
  },
  {
   "cell_type": "markdown",
   "id": "1e44dc92",
   "metadata": {},
   "source": [
    "En este caso se crea una plantilla inicial html. Luego al mismo nivel crear un archivo 'style.css' para poder crear estilos a los elemento del html y otro archivo 'script.js' para poder crear las funciones de animación."
   ]
  },
  {
   "cell_type": "markdown",
   "id": "a4ef1572",
   "metadata": {},
   "source": [
    "Una vez creados ambos archivos tendremos que enlazarlos al 'index.html', adicionalmente vamos a crear un lienzo para poder renderizar lo que queramos en un espacio adecuado dentro de nuestra página."
   ]
  },
  {
   "cell_type": "markdown",
   "id": "65b11cc1",
   "metadata": {
    "vscode": {
     "languageId": "polyglot-notebook"
    }
   },
   "source": [
    "```html\n",
    "<!DOCTYPE html>\n",
    "<html lang=\"en\">\n",
    "<head>\n",
    "    <meta charset=\"UTF-8\">\n",
    "    <meta name=\"viewport\" content=\"width=device-width, initial-scale=1.0\">\n",
    "    <title>Example</title>\n",
    "    <link rel=\"stylesheet\" href=\"style.css\"/>\n",
    "</head>\n",
    "<body>\n",
    "    <canvas id=\"canvas1\"></canvas> <!-- Nuevo lienzo -->\n",
    "\n",
    "    <script src=\"script.js\"></script>\n",
    "</body>\n",
    "</html>"
   ]
  },
  {
   "cell_type": "markdown",
   "id": "ca42afa9",
   "metadata": {},
   "source": [
    "Luego vamos a dar estilos a nuestro nuevo lienzo a través de nuestro archivo 'style.css' para poder resaltarlo con respecto al fondo."
   ]
  },
  {
   "cell_type": "markdown",
   "id": "8fece582",
   "metadata": {
    "vscode": {
     "languageId": "polyglot-notebook"
    }
   },
   "source": [
    "```css\n",
    "#canvas1{\n",
    "    border: 5px solid black;\n",
    "    position: absolute;\n",
    "    top: 50%;\n",
    "    left: 50%;\n",
    "    transform: translate(-50%, -50%);\n",
    "    width: 600px;\n",
    "    height: 600px;\n",
    "}"
   ]
  },
  {
   "cell_type": "markdown",
   "id": "59b61cf8",
   "metadata": {},
   "source": [
    "En el 'script.js' vamos a crear variables globales que se van a usar más adelante."
   ]
  },
  {
   "cell_type": "markdown",
   "id": "52114331",
   "metadata": {},
   "source": [
    "Este bloque de código realiza la inicialización fundamental del entorno de dibujo en el navegador. Primero, utiliza el método document.getElementById('canvas1') para buscar y obtener una referencia al objeto del DOM (Document Object Model) que corresponde al elemento <canvas> en el archivo HTML. Esta referencia se almacena en la constante canvas. \n",
    "\n",
    "```js\n",
    "const canvas = document.getElementById('canvas1');"
   ]
  },
  {
   "cell_type": "markdown",
   "id": "745a5018",
   "metadata": {},
   "source": [
    "A continuación, se invoca el método canvas.getContext('2d') para obtener el contexto de renderizado bidimensional del lienzo. Este método devuelve un objeto CanvasRenderingContext2D, el cual contiene toda la API de dibujo 2D (métodos y propiedades para dibujar formas, texto e imágenes), y se asigna a la constante ctx. Finalmente, el código establece las dimensiones del área de dibujo del canvas. La expresión canvas.width = 600 asigna un ancho de 600 píxeles a la propiedad intrínseca del canvas, definiendo su resolución horizontal. Mediante una asignación encadenada, este mismo valor se almacena en la constante CANVAS_WIDTH. El mismo proceso se repite para la altura con CANVAS_HEIGHT, garantizando que las dimensiones del lienzo estén definidas explícitamente en el script y sean fácilmente accesibles a través de constantes globales para cálculos posteriores."
   ]
  },
  {
   "cell_type": "markdown",
   "id": "9a7d48ad",
   "metadata": {
    "vscode": {
     "languageId": "polyglot-notebook"
    }
   },
   "source": [
    "```js\n",
    "const canvas = document.getElementById('canvas1');\n",
    "const ctx = canvas.getContext('2d');\n",
    "const CANVAS_WIDTH = canvas.width = 600;\n",
    "const CANVAS_HEIGHT = canvas.height = 600;"
   ]
  }
 ],
 "metadata": {
  "language_info": {
   "name": "python"
  }
 },
 "nbformat": 4,
 "nbformat_minor": 5
}
